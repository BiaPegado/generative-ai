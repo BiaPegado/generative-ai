{
  "cells": [
    {
      "cell_type": "markdown",
      "id": "a1b2c3d4",
      "metadata": {
        "id": "a1b2c3d4"
      },
      "source": [
        "# Modelos de Linguagem com LSTM\n",
        "\n",
        "Este notebook introduz os **Modelos de Linguagem** (*Language Models*), uma das aplicações mais fundamentais e poderosas do processamento de linguagem natural. Exploraremos a teoria matemática por trás desses modelos e implementaremos uma versão prática usando **Long Short-Term Memory (LSTM)** networks com PyTorch.\n",
        "\n",
        "## Conteúdos Abordados\n",
        "\n",
        "1. **Fundamentos Teóricos de Modelos de Linguagem**: A matemática da modelagem probabilística da linguagem\n",
        "2. **Long Short-Term Memory (LSTM)**: Arquitetura avançada para sequências longas\n",
        "3. **Implementação de um Modelo de Linguagem com LSTM**: Construção completa do pipeline\n",
        "4. **Geração Autorregressiva**: Como gerar texto de forma probabilística\n",
        "5. **Análise de Perplexidade**: Métrica de avaliação de modelos de linguagem\n",
        "6. **Análise dos Embeddings Aprendidos**: Visualização do espaço semântico"
      ]
    },
    {
      "cell_type": "markdown",
      "id": "b1c2d3e4",
      "metadata": {
        "id": "b1c2d3e4"
      },
      "source": [
        "## 1. Fundamentos Teóricos de Modelos de Linguagem\n",
        "\n",
        "Um **modelo de linguagem** é um modelo probabilístico que atribui probabilidades a sequências de palavras. Formalmente, dado um vocabulário $V$ e uma sequência de palavras $w_1, w_2, \\ldots, w_T$, um modelo de linguagem estima a probabilidade conjunta:\n",
        "\n",
        "$$P(w_1, w_2, \\ldots, w_T)$$\n",
        "\n",
        "### Decomposição Autorregressiva\n",
        "\n",
        "Pela regra da cadeia da probabilidade, podemos decompor essa probabilidade conjunta como:\n",
        "\n",
        "$$P(w_1, w_2, \\ldots, w_T) = \\prod_{t=1}^{T} P(w_t | w_1, w_2, \\ldots, w_{t-1})$$\n",
        "\n",
        "Onde $P(w_t | w_1, \\ldots, w_{t-1})$ é a **probabilidade condicional** da palavra $w_t$ dado todo o contexto anterior. Esta decomposição é chamada de **autorregressiva** porque cada palavra é modelada condicionalmente em relação às palavras anteriores.\n",
        "\n",
        "### O Problema da Maldição da Dimensionalidade\n",
        "\n",
        "Estimar $P(w_t | w_1, \\ldots, w_{t-1})$ diretamente é impraticável, pois:\n",
        "1. O número de possíveis contextos cresce exponencialmente com o comprimento\n",
        "2. A maioria das sequências específicas nunca aparece nos dados de treino\n",
        "\n",
        "### Aproximação Neural\n",
        "\n",
        "Modelos neurais de linguagem resolvem este problema aprendendo uma função paramétrica $f_\\theta$:\n",
        "\n",
        "$$P(w_t | w_1, \\ldots, w_{t-1}) \\approx f_\\theta(w_1, \\ldots, w_{t-1})$$\n",
        "\n",
        "Onde $\\theta$ representa os parâmetros da rede neural (pesos e biases)."
      ]
    },
    {
      "cell_type": "markdown",
      "id": "c1d2e3f4",
      "metadata": {
        "id": "c1d2e3f4"
      },
      "source": [
        "## 2. Long Short-Term Memory (LSTM)\n",
        "\n",
        "Enquanto RNNs tradicionais sofrem do problema de **desvanecimento do gradiente** (*vanishing gradient*), as **LSTMs** foram projetadas especificamente para capturar dependências de longo prazo em sequências.\n",
        "\n",
        "### Arquitetura da Célula LSTM\n",
        "\n",
        "Uma célula LSTM possui três **gates** (portões) que controlam o fluxo de informação:\n",
        "\n",
        "1. **Forget Gate** ($f_t$): Decide quanta informação descartar do estado da célula\n",
        "2. **Input Gate** ($i_t$): Decide quais valores atualizar no estado da célula\n",
        "3. **Output Gate** ($o_t$): Controla quais partes do estado da célula serão outputadas\n",
        "\n",
        "### Equações Matemáticas da LSTM\n",
        "\n",
        "Para o tempo $t$, com entrada $x_t$ e estado oculto anterior $h_{t-1}$:\n",
        "\n",
        "**Gates:**\n",
        "$$f_t = \\sigma(W_f \\cdot [h_{t-1}, x_t] + b_f)$$\n",
        "$$i_t = \\sigma(W_i \\cdot [h_{t-1}, x_t] + b_i)$$\n",
        "$$o_t = \\sigma(W_o \\cdot [h_{t-1}, x_t] + b_o)$$\n",
        "\n",
        "**Candidato a novo estado:**\n",
        "$$\\tilde{C}_t = \\tanh(W_C \\cdot [h_{t-1}, x_t] + b_C)$$\n",
        "\n",
        "**Estado da célula:**\n",
        "$$C_t = f_t * C_{t-1} + i_t * \\tilde{C}_t$$\n",
        "\n",
        "**Estado oculto:**\n",
        "$$h_t = o_t * \\tanh(C_t)$$\n",
        "\n",
        "Onde $\\sigma$ é a função sigmoid, $*$ denota multiplicação elemento-a-elemento, e $W$, $b$ são as matrizes de pesos e vetores de bias, respectivamente."
      ]
    },
    {
      "cell_type": "code",
      "execution_count": 1,
      "id": "d1e2f3g4",
      "metadata": {
        "id": "d1e2f3g4"
      },
      "outputs": [],
      "source": [
        "import torch\n",
        "import torch.nn as nn\n",
        "import torch.optim as optim\n",
        "import torch.nn.functional as F\n",
        "from torch.utils.data import DataLoader, Dataset\n",
        "import numpy as np\n",
        "import matplotlib.pyplot as plt\n",
        "from tqdm.notebook import tqdm\n",
        "import re\n",
        "from collections import Counter\n",
        "import math"
      ]
    },
    {
      "cell_type": "markdown",
      "id": "e1f2g3h4",
      "metadata": {
        "id": "e1f2g3h4"
      },
      "source": [
        "## 3. Preparação dos Dados\n",
        "\n",
        "Para treinar nosso modelo de linguagem, utilizaremos um corpus de texto em português. O processo de preparação envolve:\n",
        "\n",
        "1. **Limpeza e tokenização** do texto\n",
        "2. **Construção do vocabulário** com as palavras mais frequentes\n",
        "3. **Criação de sequências** de treinamento com janela deslizante\n",
        "4. **Mapeamento** de tokens para índices numéricos"
      ]
    },
    {
      "cell_type": "code",
      "execution_count": 2,
      "id": "f1g2h3i4",
      "metadata": {
        "colab": {
          "base_uri": "https://localhost:8080/"
        },
        "id": "f1g2h3i4",
        "outputId": "c44a7e0d-fbc5-4eba-e97c-c064bb01c7e8"
      },
      "outputs": [
        {
          "output_type": "stream",
          "name": "stdout",
          "text": [
            "Tamanho do corpus: 2271 caracteres\n",
            "Primeiros 200 caracteres:\n",
            "\n",
            "A inteligencia artificial e uma area da ciencia da computacao que se concentra no desenvolvimento de sistemas capazes de realizar tarefas que normalmente requerem inteligencia humana.\n",
            "O aprendizado d\n"
          ]
        }
      ],
      "source": [
        "# Corpus expandido em português sobre inteligência artificial\n",
        "corpus_text = \"\"\"\n",
        "A inteligencia artificial e uma area da ciencia da computacao que se concentra no desenvolvimento de sistemas capazes de realizar tarefas que normalmente requerem inteligencia humana.\n",
        "O aprendizado de maquina e um subcampo da inteligencia artificial que permite aos computadores aprender e melhorar automaticamente atraves da experiencia.\n",
        "As redes neurais artificiais sao inspiradas no funcionamento do cerebro humano e consistem em nos interconectados que processam informacoes.\n",
        "O aprendizado profundo utiliza redes neurais com multiplas camadas para modelar e compreender dados complexos.\n",
        "Os algoritmos de aprendizado supervisionado aprendem a partir de exemplos rotulados para fazer predicoes sobre novos dados.\n",
        "O aprendizado nao supervisionado descobre padroes ocultos em dados sem rotulos explicitos.\n",
        "O processamento de linguagem natural permite que os computadores compreendam e gerem texto em linguagem humana.\n",
        "A visao computacional capacita as maquinas a interpretar e analisar conteudo visual do mundo real.\n",
        "Os sistemas de recomendacao utilizam algoritmos de aprendizado de maquina para sugerir produtos ou conteudo aos usuarios.\n",
        "A robotica integra inteligencia artificial com engenharia mecanica para criar maquinas autonomas.\n",
        "O reconhecimento de padroes e fundamental para identificar estruturas e regularidades nos dados.\n",
        "Os modelos generativos podem criar novos dados que se assemelham aos dados de treinamento originais.\n",
        "A otimizacao e crucial para encontrar os melhores parametros em algoritmos de aprendizado de maquina.\n",
        "O overfitting ocorre quando um modelo aprende muito especificamente os dados de treino perdendo capacidade de generalizacao.\n",
        "A validacao cruzada e uma tecnica para avaliar o desempenho de modelos de forma mais robusta.\n",
        "As funcoes de ativacao introduzem nao linearidade nas redes neurais permitindo modelar relacoes complexas.\n",
        "O gradiente descendente e um algoritmo de otimizacao usado para treinar modelos de aprendizado de maquina.\n",
        "A regularizacao ajuda a prevenir o overfitting adicionando penalidades aos parametros do modelo.\n",
        "Os transformadores revolucionaram o processamento de linguagem natural com mecanismos de atencao.\n",
        "A inteligencia artificial generativa pode criar texto imagens audio e outros tipos de conteudo criativo.\n",
        "\"\"\"\n",
        "\n",
        "print(f\"Tamanho do corpus: {len(corpus_text)} caracteres\")\n",
        "print(f\"Primeiros 200 caracteres:\")\n",
        "print(corpus_text[:200])"
      ]
    },
    {
      "cell_type": "code",
      "execution_count": 3,
      "id": "g1h2i3j4",
      "metadata": {
        "colab": {
          "base_uri": "https://localhost:8080/"
        },
        "id": "g1h2i3j4",
        "outputId": "42399df0-67ec-462d-aaba-8c347cb58a0d"
      },
      "outputs": [
        {
          "output_type": "stream",
          "name": "stdout",
          "text": [
            "Total de tokens: 316\n",
            "Vocabulário único: 174\n",
            "Primeiras 20 palavras do vocabulário: ['<UNK>', '<START>', '<END>', 'de', 'e', 'a', 'o', 'para', 'aprendizado', 'dados', 'os', 'que', 'inteligencia', 'artificial', 'da', 'maquina', 'aos', 'em', 'um', 'as']\n"
          ]
        }
      ],
      "source": [
        "def preprocess_text(text):\n",
        "    \"\"\"Limpa e tokeniza o texto.\"\"\"\n",
        "    # Converter para minúsculas e remover caracteres especiais\n",
        "    text = text.lower()\n",
        "    text = re.sub(r'[^a-záàâãéèêíìîóòôõúùûç\\s]', '', text)\n",
        "\n",
        "    # Tokenizar por palavras\n",
        "    tokens = text.split()\n",
        "\n",
        "    return tokens\n",
        "\n",
        "def build_vocabulary(tokens, vocab_size=1000):\n",
        "    \"\"\"Constrói vocabulário com as palavras mais frequentes.\"\"\"\n",
        "    counter = Counter(tokens)\n",
        "\n",
        "    # Tokens especiais\n",
        "    special_tokens = ['<UNK>', '<START>', '<END>']\n",
        "\n",
        "    # Palavras mais frequentes (excluindo tokens especiais)\n",
        "    frequent_words = [word for word, _ in counter.most_common(vocab_size - len(special_tokens))]\n",
        "\n",
        "    # Vocabulário completo\n",
        "    vocabulary = special_tokens + frequent_words\n",
        "\n",
        "    # Mapeamentos\n",
        "    word_to_idx = {word: idx for idx, word in enumerate(vocabulary)}\n",
        "    idx_to_word = {idx: word for word, idx in word_to_idx.items()}\n",
        "\n",
        "    return vocabulary, word_to_idx, idx_to_word\n",
        "\n",
        "# Processar o corpus\n",
        "tokens = preprocess_text(corpus_text)\n",
        "vocabulary, word_to_idx, idx_to_word = build_vocabulary(tokens, vocab_size=200)\n",
        "\n",
        "print(f\"Total de tokens: {len(tokens)}\")\n",
        "print(f\"Vocabulário único: {len(vocabulary)}\")\n",
        "print(f\"Primeiras 20 palavras do vocabulário: {vocabulary[:20]}\")"
      ]
    },
    {
      "cell_type": "code",
      "execution_count": 4,
      "id": "h1i2j3k4",
      "metadata": {
        "colab": {
          "base_uri": "https://localhost:8080/"
        },
        "id": "h1i2j3k4",
        "outputId": "ad19d0e4-42bf-4394-8788-d4cfe7811746"
      },
      "outputs": [
        {
          "output_type": "stream",
          "name": "stdout",
          "text": [
            "Número total de sequências de treinamento: 306\n",
            "Exemplo de sequência: [5, 12, 13, 4, 29, 50, 14, 51, 14, 52]\n",
            "Alvo correspondente: 11\n",
            "Sequência em palavras: ['a', 'inteligencia', 'artificial', 'e', 'uma', 'area', 'da', 'ciencia', 'da', 'computacao']\n",
            "Alvo em palavra: que\n"
          ]
        }
      ],
      "source": [
        "def encode_tokens(tokens, word_to_idx):\n",
        "    \"\"\"Converte tokens em índices numéricos.\"\"\"\n",
        "    unk_idx = word_to_idx['<UNK>']\n",
        "    return [word_to_idx.get(token, unk_idx) for token in tokens]\n",
        "\n",
        "def create_training_sequences(encoded_tokens, seq_length):\n",
        "    \"\"\"Cria sequências de entrada e alvos para treinamento.\"\"\"\n",
        "    sequences = []\n",
        "    targets = []\n",
        "\n",
        "    for i in range(len(encoded_tokens) - seq_length):\n",
        "        seq = encoded_tokens[i:i + seq_length]\n",
        "        target = encoded_tokens[i + seq_length]\n",
        "        sequences.append(seq)\n",
        "        targets.append(target)\n",
        "\n",
        "    return sequences, targets\n",
        "\n",
        "# Codificar tokens\n",
        "encoded_tokens = encode_tokens(tokens, word_to_idx)\n",
        "\n",
        "# Criar sequências de treinamento\n",
        "seq_length = 10  # Comprimento da sequência de contexto\n",
        "sequences, targets = create_training_sequences(encoded_tokens, seq_length)\n",
        "\n",
        "print(f\"Número total de sequências de treinamento: {len(sequences)}\")\n",
        "print(f\"Exemplo de sequência: {sequences[0]}\")\n",
        "print(f\"Alvo correspondente: {targets[0]}\")\n",
        "\n",
        "# Decodificar para verificar\n",
        "example_seq_words = [idx_to_word[idx] for idx in sequences[0]]\n",
        "example_target_word = idx_to_word[targets[0]]\n",
        "print(f\"Sequência em palavras: {example_seq_words}\")\n",
        "print(f\"Alvo em palavra: {example_target_word}\")"
      ]
    },
    {
      "cell_type": "markdown",
      "id": "i1j2k3l4",
      "metadata": {
        "id": "i1j2k3l4"
      },
      "source": [
        "## 4. Dataset Personalizado para PyTorch\n",
        "\n",
        "Criaremos uma classe Dataset personalizada para facilitar o carregamento dos dados em lotes (*batches*) durante o treinamento."
      ]
    },
    {
      "cell_type": "code",
      "execution_count": 5,
      "id": "j1k2l3m4",
      "metadata": {
        "colab": {
          "base_uri": "https://localhost:8080/"
        },
        "id": "j1k2l3m4",
        "outputId": "dbe1541b-7589-44f0-8276-24ca44a20e88"
      },
      "outputs": [
        {
          "output_type": "stream",
          "name": "stdout",
          "text": [
            "Dataset criado com 306 exemplos\n",
            "Número de lotes: 10\n",
            "Formato do lote de sequências: torch.Size([32, 10])\n",
            "Formato do lote de alvos: torch.Size([32, 1])\n"
          ]
        }
      ],
      "source": [
        "class LanguageModelDataset(Dataset):\n",
        "    def __init__(self, sequences, targets):\n",
        "        self.sequences = sequences\n",
        "        self.targets = targets\n",
        "\n",
        "    def __len__(self):\n",
        "        return len(self.sequences)\n",
        "\n",
        "    def __getitem__(self, idx):\n",
        "        return (\n",
        "            torch.LongTensor(self.sequences[idx]),\n",
        "            torch.LongTensor([self.targets[idx]])\n",
        "        )\n",
        "\n",
        "# Criar dataset e dataloader\n",
        "dataset = LanguageModelDataset(sequences, targets)\n",
        "batch_size = 32\n",
        "dataloader = DataLoader(dataset, batch_size=batch_size, shuffle=True)\n",
        "\n",
        "print(f\"Dataset criado com {len(dataset)} exemplos\")\n",
        "print(f\"Número de lotes: {len(dataloader)}\")\n",
        "\n",
        "# Testar um lote\n",
        "for batch_seq, batch_target in dataloader:\n",
        "    print(f\"Formato do lote de sequências: {batch_seq.shape}\")\n",
        "    print(f\"Formato do lote de alvos: {batch_target.shape}\")\n",
        "    break"
      ]
    },
    {
      "cell_type": "markdown",
      "id": "k1l2m3n4",
      "metadata": {
        "id": "k1l2m3n4"
      },
      "source": [
        "## 5. Implementação do Modelo de Linguagem com LSTM\n",
        "\n",
        "Nossa arquitetura consistirá em:\n",
        "\n",
        "1. **Camada de Embedding**: Converte índices de palavras em vetores densos\n",
        "2. **Camada LSTM**: Processa a sequência e mantém memória de longo prazo\n",
        "3. **Camada Linear de Saída**: Projeta do espaço oculto para o vocabulário\n",
        "4. **Dropout**: Regularização para prevenir overfitting\n",
        "\n",
        "A saída final são **logits** sobre todo o vocabulário, que são convertidos em probabilidades via **softmax**."
      ]
    },
    {
      "cell_type": "code",
      "execution_count": 6,
      "id": "l1m2n3o4",
      "metadata": {
        "colab": {
          "base_uri": "https://localhost:8080/"
        },
        "id": "l1m2n3o4",
        "outputId": "6773438d-d7fd-445c-e924-31a94bf33716"
      },
      "outputs": [
        {
          "output_type": "stream",
          "name": "stdout",
          "text": [
            "Modelo criado com 265006 parâmetros\n",
            "Dispositivo: cpu\n",
            "LSTMLanguageModel(\n",
            "  (embedding): Embedding(174, 64)\n",
            "  (lstm): LSTM(64, 128, num_layers=2, batch_first=True, dropout=0.3)\n",
            "  (dropout): Dropout(p=0.3, inplace=False)\n",
            "  (fc_out): Linear(in_features=128, out_features=174, bias=True)\n",
            ")\n"
          ]
        }
      ],
      "source": [
        "class LSTMLanguageModel(nn.Module):\n",
        "    def __init__(self, vocab_size, embedding_dim, hidden_dim, num_layers=2, dropout=0.3):\n",
        "        super(LSTMLanguageModel, self).__init__()\n",
        "\n",
        "        self.embedding_dim = embedding_dim\n",
        "        self.hidden_dim = hidden_dim\n",
        "        self.num_layers = num_layers\n",
        "        self.vocab_size = vocab_size\n",
        "\n",
        "        # Camadas da rede\n",
        "        self.embedding = nn.Embedding(vocab_size, embedding_dim)\n",
        "        self.lstm = nn.LSTM(embedding_dim, hidden_dim, num_layers,\n",
        "                           dropout=dropout, batch_first=True)\n",
        "        self.dropout = nn.Dropout(dropout)\n",
        "        self.fc_out = nn.Linear(hidden_dim, vocab_size)\n",
        "\n",
        "    def forward(self, x, hidden=None):\n",
        "        \"\"\"\n",
        "        Forward pass do modelo.\n",
        "\n",
        "        Args:\n",
        "            x: tensor de entrada [batch_size, seq_length]\n",
        "            hidden: estado oculto inicial (opcional)\n",
        "\n",
        "        Returns:\n",
        "            output: logits sobre vocabulário [batch_size, seq_length, vocab_size]\n",
        "            hidden: estado oculto final\n",
        "        \"\"\"\n",
        "        batch_size = x.size(0)\n",
        "\n",
        "        # Embedding: [batch_size, seq_length] -> [batch_size, seq_length, embedding_dim]\n",
        "        embedded = self.embedding(x)\n",
        "\n",
        "        # LSTM: [batch_size, seq_length, embedding_dim] -> [batch_size, seq_length, hidden_dim]\n",
        "        lstm_out, hidden = self.lstm(embedded, hidden)\n",
        "\n",
        "        # Dropout para regularização\n",
        "        lstm_out = self.dropout(lstm_out)\n",
        "\n",
        "        # Projeção para vocabulário: [batch_size, seq_length, hidden_dim] -> [batch_size, seq_length, vocab_size]\n",
        "        output = self.fc_out(lstm_out)\n",
        "\n",
        "        return output, hidden\n",
        "\n",
        "    def init_hidden(self, batch_size, device):\n",
        "        \"\"\"Inicializa estado oculto com zeros.\"\"\"\n",
        "        return (torch.zeros(self.num_layers, batch_size, self.hidden_dim).to(device),\n",
        "                torch.zeros(self.num_layers, batch_size, self.hidden_dim).to(device))\n",
        "\n",
        "# Hiperparâmetros do modelo\n",
        "vocab_size = len(vocabulary)\n",
        "embedding_dim = 64\n",
        "hidden_dim = 128\n",
        "num_layers = 2\n",
        "dropout = 0.3\n",
        "\n",
        "# Instanciar modelo\n",
        "device = torch.device('cuda' if torch.cuda.is_available() else 'cpu')\n",
        "model = LSTMLanguageModel(vocab_size, embedding_dim, hidden_dim, num_layers, dropout)\n",
        "model = model.to(device)\n",
        "\n",
        "print(f\"Modelo criado com {sum(p.numel() for p in model.parameters())} parâmetros\")\n",
        "print(f\"Dispositivo: {device}\")\n",
        "print(model)"
      ]
    },
    {
      "cell_type": "markdown",
      "id": "m1n2o3p4",
      "metadata": {
        "id": "m1n2o3p4"
      },
      "source": [
        "## 6. Treinamento do Modelo\n",
        "\n",
        "O treinamento de um modelo de linguagem usa **Cross-Entropy Loss** entre as probabilidades preditas e as palavras reais. A cada época, passamos todas as sequências pelo modelo e atualizamos os parâmetros via **backpropagation**.\n",
        "\n",
        "### Função de Loss\n",
        "\n",
        "Para uma sequência de entrada $x_1, \\ldots, x_T$ e alvo $y$, a loss é:\n",
        "\n",
        "$$\\mathcal{L} = -\\log P(y | x_1, \\ldots, x_T) = -\\log \\frac{\\exp(\\text{logit}_y)}{\\sum_{i=1}^{|V|} \\exp(\\text{logit}_i)}$$"
      ]
    },
    {
      "cell_type": "code",
      "execution_count": 7,
      "id": "n1o2p3q4",
      "metadata": {
        "colab": {
          "base_uri": "https://localhost:8080/",
          "height": 171,
          "referenced_widgets": [
            "3639e4c74a9a41c9ac7459e7f1e800dd",
            "2c1765f839134e5bb3c0fb5f0da13da0",
            "5823198740b347faac2ee7c33386804e",
            "eee4575a8a5047deb39cd61169e7017f",
            "e1774dcdc894438aa81d9e37e6d8fb90",
            "b11f504a83ac41d296cffa4bfcc4588a",
            "ea86648110384493bcd848a490604280",
            "718da38562494eb98485d70743859a54",
            "557452cb2d504694b71d422f6b839320",
            "3309b265a02c4b28a77101a99e28c923",
            "15f2e88364cd40e18a3286a54657fd4d"
          ]
        },
        "id": "n1o2p3q4",
        "outputId": "003cd6d0-29b7-4392-a068-24fc46c87c7c"
      },
      "outputs": [
        {
          "output_type": "stream",
          "name": "stdout",
          "text": [
            "Iniciando treinamento...\n"
          ]
        },
        {
          "output_type": "display_data",
          "data": {
            "text/plain": [
              "  0%|          | 0/50 [00:00<?, ?it/s]"
            ],
            "application/vnd.jupyter.widget-view+json": {
              "version_major": 2,
              "version_minor": 0,
              "model_id": "3639e4c74a9a41c9ac7459e7f1e800dd"
            }
          },
          "metadata": {}
        },
        {
          "output_type": "stream",
          "name": "stdout",
          "text": [
            "Época [10/50], Loss: 4.1254\n",
            "Época [20/50], Loss: 2.6179\n",
            "Época [30/50], Loss: 1.6416\n",
            "Época [40/50], Loss: 1.0288\n",
            "Época [50/50], Loss: 0.6554\n",
            "Treinamento concluído!\n"
          ]
        }
      ],
      "source": [
        "# Configuração de treinamento\n",
        "criterion = nn.CrossEntropyLoss()\n",
        "optimizer = optim.Adam(model.parameters(), lr=0.001)\n",
        "num_epochs = 50\n",
        "\n",
        "# Lista para armazenar perdas\n",
        "training_losses = []\n",
        "\n",
        "def train_epoch(model, dataloader, criterion, optimizer, device):\n",
        "    \"\"\"Treina o modelo por uma época.\"\"\"\n",
        "    model.train()\n",
        "    total_loss = 0.0\n",
        "    num_batches = 0\n",
        "\n",
        "    for batch_seq, batch_target in dataloader:\n",
        "        batch_seq = batch_seq.to(device)\n",
        "        batch_target = batch_target.squeeze(-1).to(device)  # Remove dimensão extra\n",
        "\n",
        "        # Zero gradients\n",
        "        optimizer.zero_grad()\n",
        "\n",
        "        # Forward pass\n",
        "        output, _ = model(batch_seq)\n",
        "\n",
        "        # Pegar apenas o último token de saída para cada sequência\n",
        "        # output shape: [batch_size, seq_length, vocab_size]\n",
        "        # Queremos: [batch_size, vocab_size]\n",
        "        last_output = output[:, -1, :]\n",
        "\n",
        "        # Calcular loss\n",
        "        loss = criterion(last_output, batch_target)\n",
        "\n",
        "        # Backward pass\n",
        "        loss.backward()\n",
        "\n",
        "        # Gradient clipping (importante para LSTMs)\n",
        "        torch.nn.utils.clip_grad_norm_(model.parameters(), max_norm=1.0)\n",
        "\n",
        "        # Atualizar parâmetros\n",
        "        optimizer.step()\n",
        "\n",
        "        total_loss += loss.item()\n",
        "        num_batches += 1\n",
        "\n",
        "    return total_loss / num_batches\n",
        "\n",
        "print(\"Iniciando treinamento...\")\n",
        "\n",
        "for epoch in tqdm(range(num_epochs)):\n",
        "    epoch_loss = train_epoch(model, dataloader, criterion, optimizer, device)\n",
        "    training_losses.append(epoch_loss)\n",
        "\n",
        "    if (epoch + 1) % 10 == 0:\n",
        "        print(f\"Época [{epoch+1}/{num_epochs}], Loss: {epoch_loss:.4f}\")\n",
        "\n",
        "print(\"Treinamento concluído!\")"
      ]
    },
    {
      "cell_type": "code",
      "execution_count": 8,
      "id": "o1p2q3r4",
      "metadata": {
        "colab": {
          "base_uri": "https://localhost:8080/",
          "height": 626
        },
        "id": "o1p2q3r4",
        "outputId": "5619f7f1-7d30-44e6-fd3b-8bde523cb332"
      },
      "outputs": [
        {
          "output_type": "display_data",
          "data": {
            "text/plain": [
              "<Figure size 1200x600 with 1 Axes>"
            ],
            "image/png": "[encoded data removed]"
          },
          "metadata": {}
        },
        {
          "output_type": "stream",
          "name": "stdout",
          "text": [
            "Perda inicial: 5.1464\n",
            "Perda final: 0.6554\n",
            "Redução: 87.3%\n"
          ]
        }
      ],
      "source": [
        "# Visualizar curva de perda\n",
        "plt.figure(figsize=(12, 6))\n",
        "plt.plot(training_losses, linewidth=2)\n",
        "plt.title('Curva de Perda Durante o Treinamento', fontsize=16)\n",
        "plt.xlabel('Época', fontsize=14)\n",
        "plt.ylabel('Cross-Entropy Loss', fontsize=14)\n",
        "plt.grid(True, alpha=0.3)\n",
        "plt.show()\n",
        "\n",
        "print(f\"Perda inicial: {training_losses[0]:.4f}\")\n",
        "print(f\"Perda final: {training_losses[-1]:.4f}\")\n",
        "print(f\"Redução: {((training_losses[0] - training_losses[-1]) / training_losses[0] * 100):.1f}%\")"
      ]
    },
    {
      "cell_type": "markdown",
      "id": "p1q2r3s4",
      "metadata": {
        "id": "p1q2r3s4"
      },
      "source": [
        "## 7. Geração Autorregressiva de Texto\n",
        "\n",
        "Agora implementaremos a **geração autorregressiva**, onde o modelo gera texto palavra por palavra, usando suas próprias predições anteriores como entrada para as próximas predições.\n",
        "\n",
        "### Processo de Geração\n",
        "\n",
        "1. Começamos com uma sequência *seed* (semente)\n",
        "2. O modelo prediz a próxima palavra mais provável\n",
        "3. Adicionamos essa palavra à sequência\n",
        "4. Repetimos o processo usando a nova sequência como entrada\n",
        "\n",
        "### Estratégias de Amostragem\n",
        "\n",
        "- **Greedy**: Sempre escolher a palavra mais provável\n",
        "- **Random Sampling**: Amostrar aleatoriamente da distribuição de probabilidade\n",
        "- **Temperature Sampling**: Controlar a \"criatividade\" com um parâmetro de temperatura"
      ]
    },
    {
      "cell_type": "code",
      "execution_count": 9,
      "id": "q1r2s3t4",
      "metadata": {
        "colab": {
          "base_uri": "https://localhost:8080/"
        },
        "id": "q1r2s3t4",
        "outputId": "f577d3e7-d694-42fc-ba40-58017c43fdc2"
      },
      "outputs": [
        {
          "output_type": "stream",
          "name": "stdout",
          "text": [
            "=== EXEMPLOS DE GERAÇÃO DE TEXTO ===\n",
            "\n",
            "Seed: 'inteligencia artificial'\n",
            "--------------------------------------------------\n",
            "Temperature 0.5: inteligencia artificial identificar e e dados identificar avaliar nos que se dados dados de os em em e e a que dados o o de de de os os os permite de\n",
            "Temperature 1.0: inteligencia artificial modelos para maquinas dados e e sem criar de novos podem podem dados os de de dados aos de os os dados para criar computadores de parametros com maquina o\n",
            "Temperature 1.5: inteligencia artificial treinamento explicitos em consistem avaliar e experiencia uma redes identificar gradiente avaliar relacoes humana concentra automaticamente e um funcoes algoritmo artificial encontrar de generalizacao aprendizado de integra maquina o melhorar\n",
            "\n",
            "Seed: 'aprendizado de maquina'\n",
            "--------------------------------------------------\n",
            "Temperature 0.5: aprendizado de maquina estruturas e e estruturas para ajuda humana dados os os de de aprendizado de supervisionado a a a para overfitting fazer fazer parametros parametros em nos os de aprendizado aprendizado\n",
            "Temperature 1.0: aprendizado de maquina originais descendente e aos conteudo conteudo ativacao da funcoes redes neurais redes permitindo cruzada relacoes relacoes gradiente e e e desempenho os modelos de aprendizado modelos modelos de aprendizado capazes\n",
            "Temperature 1.5: aprendizado de maquina ocultos rotulos para humano aos nos robotica computadores atencao natural natural profundo funcoes multiplas validacao consistem autonomas e fundamental imagens originais para e aprendizado predicoes texto avaliar modelos a robusta\n",
            "\n",
            "Seed: 'redes neurais'\n",
            "--------------------------------------------------\n",
            "Temperature 0.5: redes neurais e e e estruturas estruturas regularidades nos dados os os os processamento melhores em novos algoritmos com de a a a o forma pode generativa criar parametros parametros parametros criar\n",
            "Temperature 1.0: redes neurais identificar e computadores estruturas e gradiente interconectados e compreender nos de assemelham modelos mais produtos aos capacita mais conteudo aos aos a de linearidade experiencia utiliza adicionando linearidade parametros audio\n",
            "Temperature 1.5: redes neurais tecnica nos parametros um e e e e analisar fundamental de os modelos criativo real no modelar validacao para maquina e prevenir processamento o partir aprendizado identificar regularizacao aos consistem\n",
            "\n"
          ]
        }
      ],
      "source": [
        "def generate_text(model, seed_text, max_length=50, temperature=1.0, device='cpu'):\n",
        "    \"\"\"\n",
        "    Gera texto usando o modelo treinado.\n",
        "\n",
        "    Args:\n",
        "        model: modelo LSTM treinado\n",
        "        seed_text: texto inicial (string)\n",
        "        max_length: número máximo de palavras a gerar\n",
        "        temperature: controla aleatoriedade (1.0 = normal, >1.0 = mais criativo, <1.0 = mais conservador)\n",
        "        device: dispositivo (cpu ou cuda)\n",
        "\n",
        "    Returns:\n",
        "        texto gerado (string)\n",
        "    \"\"\"\n",
        "    model.eval()\n",
        "\n",
        "    # Tokenizar e codificar texto seed\n",
        "    seed_tokens = preprocess_text(seed_text)\n",
        "    if len(seed_tokens) == 0:\n",
        "        seed_tokens = ['inteligencia']  # Fallback\n",
        "\n",
        "    # Codificar tokens\n",
        "    seed_indices = encode_tokens(seed_tokens, word_to_idx)\n",
        "\n",
        "    # Garantir que temos pelo menos seq_length tokens\n",
        "    if len(seed_indices) < seq_length:\n",
        "        # Pad com tokens <START>\n",
        "        start_idx = word_to_idx['<START>']\n",
        "        seed_indices = [start_idx] * (seq_length - len(seed_indices)) + seed_indices\n",
        "    else:\n",
        "        # Usar apenas os últimos seq_length tokens\n",
        "        seed_indices = seed_indices[-seq_length:]\n",
        "\n",
        "    generated_indices = seed_indices.copy()\n",
        "    current_sequence = seed_indices.copy()\n",
        "\n",
        "    with torch.no_grad():\n",
        "        for _ in range(max_length):\n",
        "            # Converter para tensor\n",
        "            input_tensor = torch.LongTensor([current_sequence]).to(device)\n",
        "\n",
        "            # Forward pass\n",
        "            output, _ = model(input_tensor)\n",
        "\n",
        "            # Pegar logits da última posição\n",
        "            last_logits = output[0, -1, :]\n",
        "\n",
        "            # Aplicar temperature\n",
        "            if temperature != 1.0:\n",
        "                last_logits = last_logits / temperature\n",
        "\n",
        "            # Converter para probabilidades\n",
        "            probabilities = F.softmax(last_logits, dim=0)\n",
        "\n",
        "            # Amostrar próxima palavra\n",
        "            if temperature == 0.0:  # Greedy\n",
        "                next_token_idx = torch.argmax(probabilities).item()\n",
        "            else:  # Sampling\n",
        "                next_token_idx = torch.multinomial(probabilities, 1).item()\n",
        "\n",
        "            # Parar se gerar token de fim\n",
        "            if next_token_idx == word_to_idx.get('<END>', -1):\n",
        "                break\n",
        "\n",
        "            # Adicionar nova palavra\n",
        "            generated_indices.append(next_token_idx)\n",
        "\n",
        "            # Atualizar sequência atual (janela deslizante)\n",
        "            current_sequence = current_sequence[1:] + [next_token_idx]\n",
        "\n",
        "    # Decodificar de volta para texto\n",
        "    generated_words = []\n",
        "    for idx in generated_indices:\n",
        "        word = idx_to_word.get(idx, '<UNK>')\n",
        "        if word not in ['<START>', '<END>', '<UNK>']:\n",
        "            generated_words.append(word)\n",
        "\n",
        "    return ' '.join(generated_words)\n",
        "\n",
        "# Testar geração com diferentes seeds e temperaturas\n",
        "seeds = [\n",
        "    \"inteligencia artificial\",\n",
        "    \"aprendizado de maquina\",\n",
        "    \"redes neurais\"\n",
        "]\n",
        "\n",
        "temperatures = [0.5, 1.0, 1.5]\n",
        "\n",
        "print(\"=== EXEMPLOS DE GERAÇÃO DE TEXTO ===\")\n",
        "print()\n",
        "\n",
        "for seed in seeds:\n",
        "    print(f\"Seed: '{seed}'\")\n",
        "    print(\"-\" * 50)\n",
        "\n",
        "    for temp in temperatures:\n",
        "        generated_text = generate_text(model, seed, max_length=30, temperature=temp, device=device)\n",
        "        print(f\"Temperature {temp}: {generated_text}\")\n",
        "\n",
        "    print()\n"
      ]
    },
    {
      "cell_type": "markdown",
      "id": "r1s2t3u4",
      "metadata": {
        "id": "r1s2t3u4"
      },
      "source": [
        "## 8. Avaliação: Perplexidade do Modelo\n",
        "\n",
        "A **perplexidade** é a métrica padrão para avaliar modelos de linguagem. Ela mede quão \"surpreso\" o modelo fica com uma sequência de palavras. Matematicamente:\n",
        "\n",
        "$$\\text{Perplexidade} = \\exp\\left(-\\frac{1}{T} \\sum_{t=1}^{T} \\log P(w_t | w_1, \\ldots, w_{t-1})\\right)$$\n",
        "\n",
        "- **Perplexidade menor** = modelo melhor\n",
        "- **Perplexidade = tamanho do vocabulário** = modelo aleatório\n",
        "- **Perplexidade = 1** = modelo perfeito (impossível na prática)"
      ]
    },
    {
      "cell_type": "code",
      "execution_count": 10,
      "id": "s1t2u3v4",
      "metadata": {
        "colab": {
          "base_uri": "https://localhost:8080/"
        },
        "id": "s1t2u3v4",
        "outputId": "bebd3170-2f5a-4cf6-8b10-6cc8525b5e7e"
      },
      "outputs": [
        {
          "output_type": "stream",
          "name": "stdout",
          "text": [
            "=== AVALIAÇÃO DO MODELO ===\n",
            "Perda média: 0.4691\n",
            "Perplexidade: 1.60\n",
            "Tamanho do vocabulário: 174\n",
            "Perplexidade de modelo aleatório: 174\n",
            "Melhoria sobre modelo aleatório: 172.40 pontos\n"
          ]
        }
      ],
      "source": [
        "def calculate_perplexity(model, dataloader, device):\n",
        "    \"\"\"\n",
        "    Calcula perplexidade do modelo nos dados de teste.\n",
        "    \"\"\"\n",
        "    model.eval()\n",
        "    total_loss = 0.0\n",
        "    num_tokens = 0\n",
        "\n",
        "    criterion = nn.CrossEntropyLoss(reduction='sum')\n",
        "\n",
        "    with torch.no_grad():\n",
        "        for batch_seq, batch_target in dataloader:\n",
        "            batch_seq = batch_seq.to(device)\n",
        "            batch_target = batch_target.squeeze(-1).to(device)\n",
        "\n",
        "            # Forward pass\n",
        "            output, _ = model(batch_seq)\n",
        "\n",
        "            # Última saída de cada sequência\n",
        "            last_output = output[:, -1, :]\n",
        "\n",
        "            # Calcular loss\n",
        "            loss = criterion(last_output, batch_target)\n",
        "\n",
        "            total_loss += loss.item()\n",
        "            num_tokens += batch_target.size(0)\n",
        "\n",
        "    # Perplexidade é exp da loss média\n",
        "    average_loss = total_loss / num_tokens\n",
        "    perplexity = math.exp(average_loss)\n",
        "\n",
        "    return perplexity, average_loss\n",
        "\n",
        "# Calcular perplexidade no conjunto de dados\n",
        "perplexity, average_loss = calculate_perplexity(model, dataloader, device)\n",
        "\n",
        "print(f\"=== AVALIAÇÃO DO MODELO ===\")\n",
        "print(f\"Perda média: {average_loss:.4f}\")\n",
        "print(f\"Perplexidade: {perplexity:.2f}\")\n",
        "print(f\"Tamanho do vocabulário: {vocab_size}\")\n",
        "print(f\"Perplexidade de modelo aleatório: {vocab_size}\")\n",
        "print(f\"Melhoria sobre modelo aleatório: {(vocab_size - perplexity):.2f} pontos\")"
      ]
    },
    {
      "cell_type": "markdown",
      "id": "t1u2v3w4",
      "metadata": {
        "id": "t1u2v3w4"
      },
      "source": [
        "## 9. Análise dos Embeddings Aprendidos\n",
        "\n",
        "Vamos visualizar os embeddings de palavras que o modelo aprendeu durante o treinamento. Palavras semanticamente similares devem ter embeddings próximos no espaço vetorial."
      ]
    },
    {
      "cell_type": "code",
      "execution_count": 11,
      "id": "u1v2w3x4",
      "metadata": {
        "colab": {
          "base_uri": "https://localhost:8080/",
          "height": 1000
        },
        "id": "u1v2w3x4",
        "outputId": "aaac528a-20c0-4d6b-c973-6d24f39d7ed6"
      },
      "outputs": [
        {
          "output_type": "display_data",
          "data": {
            "text/plain": [
              "<Figure size 1500x1000 with 1 Axes>"
            ],
            "image/png": "[encoded data removed]"
          },
          "metadata": {}
        },
        {
          "output_type": "stream",
          "name": "stdout",
          "text": [
            "=== PALAVRAS SIMILARES ===\n",
            "\n",
            "Palavras similares a 'inteligencia':\n",
            "  otimizacao: 0.373\n",
            "  ativacao: 0.350\n",
            "  aprender: 0.322\n",
            "  especificamente: 0.300\n",
            "  modelo: 0.288\n",
            "\n",
            "Palavras similares a 'aprendizado':\n",
            "  processamento: 0.353\n",
            "  nas: 0.300\n",
            "  reconhecimento: 0.284\n",
            "  realizar: 0.270\n",
            "  tecnica: 0.267\n",
            "\n",
            "Palavras similares a 'redes':\n",
            "  se: 0.312\n",
            "  requerem: 0.302\n",
            "  identificar: 0.286\n",
            "  atraves: 0.232\n",
            "  sugerir: 0.223\n",
            "\n",
            "Palavras similares a 'dados':\n",
            "  rotulos: 0.352\n",
            "  humana: 0.344\n",
            "  do: 0.338\n",
            "  processamento: 0.285\n",
            "  sistemas: 0.276\n"
          ]
        }
      ],
      "source": [
        "from sklearn.manifold import TSNE\n",
        "from sklearn.metrics.pairwise import cosine_similarity\n",
        "\n",
        "def visualize_embeddings(model, vocabulary, word_to_idx, num_words=30):\n",
        "    \"\"\"\n",
        "    Visualiza embeddings usando t-SNE.\n",
        "    \"\"\"\n",
        "    # Extrair embeddings do modelo\n",
        "    embeddings = model.embedding.weight.data.cpu().numpy()\n",
        "\n",
        "    # Selecionar palavras mais interessantes (evitar tokens especiais)\n",
        "    interesting_words = []\n",
        "    interesting_indices = []\n",
        "\n",
        "    for word in vocabulary[3:num_words+3]:  # Pular tokens especiais\n",
        "        if word in word_to_idx:\n",
        "            interesting_words.append(word)\n",
        "            interesting_indices.append(word_to_idx[word])\n",
        "\n",
        "    # Embeddings selecionados\n",
        "    selected_embeddings = embeddings[interesting_indices]\n",
        "\n",
        "    # Reduzir dimensionalidade com t-SNE\n",
        "    tsne = TSNE(n_components=2, random_state=42, perplexity=min(15, len(interesting_words)-1))\n",
        "    embeddings_2d = tsne.fit_transform(selected_embeddings)\n",
        "\n",
        "    # Plotar\n",
        "    plt.figure(figsize=(15, 10))\n",
        "    scatter = plt.scatter(embeddings_2d[:, 0], embeddings_2d[:, 1],\n",
        "                         alpha=0.7, s=100, c=range(len(interesting_words)),\n",
        "                         cmap='tab20')\n",
        "\n",
        "    # Adicionar labels\n",
        "    for i, word in enumerate(interesting_words):\n",
        "        plt.annotate(word, (embeddings_2d[i, 0], embeddings_2d[i, 1]),\n",
        "                    xytext=(5, 5), textcoords='offset points',\n",
        "                    fontsize=10, alpha=0.8)\n",
        "\n",
        "    plt.title('Visualização dos Embeddings Aprendidos (t-SNE)', fontsize=16)\n",
        "    plt.xlabel('Componente 1', fontsize=14)\n",
        "    plt.ylabel('Componente 2', fontsize=14)\n",
        "    plt.grid(True, alpha=0.3)\n",
        "    plt.tight_layout()\n",
        "    plt.show()\n",
        "\n",
        "def find_similar_words(model, word, word_to_idx, idx_to_word, top_k=5):\n",
        "    \"\"\"\n",
        "    Encontra palavras mais similares usando similaridade do cosseno.\n",
        "    \"\"\"\n",
        "    if word not in word_to_idx:\n",
        "        return f\"Palavra '{word}' não encontrada no vocabulário.\"\n",
        "\n",
        "    # Embedding da palavra alvo\n",
        "    word_idx = word_to_idx[word]\n",
        "    embeddings = model.embedding.weight.data.cpu().numpy()\n",
        "    word_embedding = embeddings[word_idx].reshape(1, -1)\n",
        "\n",
        "    # Calcular similaridades\n",
        "    similarities = cosine_similarity(word_embedding, embeddings)[0]\n",
        "\n",
        "    # Encontrar índices das palavras mais similares\n",
        "    similar_indices = np.argsort(similarities)[::-1][1:top_k+1]  # Excluir a própria palavra\n",
        "\n",
        "    similar_words = [(idx_to_word[idx], similarities[idx])\n",
        "                     for idx in similar_indices if idx in idx_to_word]\n",
        "\n",
        "    return similar_words\n",
        "\n",
        "# Visualizar embeddings\n",
        "visualize_embeddings(model, vocabulary, word_to_idx, num_words=25)\n",
        "\n",
        "# Testar similaridades\n",
        "print(\"=== PALAVRAS SIMILARES ===\")\n",
        "test_words = ['inteligencia', 'aprendizado', 'redes', 'dados']\n",
        "\n",
        "for word in test_words:\n",
        "    if word in word_to_idx:\n",
        "        similar = find_similar_words(model, word, word_to_idx, idx_to_word)\n",
        "        print(f\"\\nPalavras similares a '{word}':\")\n",
        "        for similar_word, score in similar:\n",
        "            print(f\"  {similar_word}: {score:.3f}\")\n"
      ]
    },
    {
      "cell_type": "markdown",
      "id": "v1w2x3y4",
      "metadata": {
        "id": "v1w2x3y4"
      },
      "source": [
        "## Exercícios\n",
        "\n",
        "### Exercício 1: Experimentando com Hiperparâmetros\n",
        "\n",
        "Modifique os hiperparâmetros (`embedding_dim`, `hidden_dim`, camadas, dropout...) do modelo LSTM e observe como afetam o desempenho.\n",
        "\n",
        "Para cada configuração, registre:\n",
        "- Perplexidade final\n",
        "- Tempo de treinamento\n",
        "- Qualidade subjetiva da geração de texto\n",
        "\n",
        "Qual configuração oferece o melhor equilíbrio entre desempenho e eficiência?"
      ]
    },
    {
      "cell_type": "code",
      "source": [
        "def run_experiment(embedding_dim, hidden_dim, num_layers, dropout, num_epochs=30, seed_text=\"inteligencia artificial\"):\n",
        "\n",
        "    global vocab_size, dataloader, word_to_idx, idx_to_word, device\n",
        "\n",
        "    print(f\"\\n=======================================================\")\n",
        "    print(f\"EXPERIMENTO - Dimensão Embed: {embedding_dim}, Hidden: {hidden_dim}, Camadas: {num_layers}, Dropout: {dropout}\")\n",
        "    print(f\"=======================================================\")\n",
        "\n",
        "    # 1. Instanciar o modelo\n",
        "    model = LSTMLanguageModel(vocab_size, embedding_dim, hidden_dim, num_layers, dropout)\n",
        "    model = model.to(device)\n",
        "\n",
        "    # 2. Configurar Treinamento\n",
        "    criterion = nn.CrossEntropyLoss()\n",
        "    optimizer = optim.Adam(model.parameters(), lr=0.001)\n",
        "\n",
        "    training_losses = []\n",
        "\n",
        "    # Medir o tempo de treinamento\n",
        "    import time\n",
        "    start_time = time.time()\n",
        "\n",
        "    # 3. Loop de Treinamento\n",
        "    for epoch in range(num_epochs):\n",
        "        epoch_loss = train_epoch(model, dataloader, criterion, optimizer, device)\n",
        "        training_losses.append(epoch_loss)\n",
        "\n",
        "    end_time = time.time()\n",
        "\n",
        "    # 4. Avaliação e Geração\n",
        "\n",
        "    # Perplexidade (usando o dataloader de treinamento como proxy)\n",
        "    perplexity, average_loss = calculate_perplexity(model, dataloader, device)\n",
        "\n",
        "    # Geração de Texto (Usando Temperatura 1.0 para equilíbrio)\n",
        "    generated_text = generate_text(model, seed_text, max_length=30, temperature=1.0, device=device)\n",
        "\n",
        "    # 5. Imprimir Resultados\n",
        "    print(f\"\\n--- Resultados Finais ---\")\n",
        "    print(f\"Tempo de Treinamento: {end_time - start_time:.2f} segundos\")\n",
        "    print(f\"Perda Final (Loss): {training_losses[-1]:.4f}\")\n",
        "    print(f\"Perplexidade Final: {perplexity:.2f}\")\n",
        "    print(f\"Texto Gerado (Seed: '{seed_text}'): {generated_text}\")\n",
        "    print(\"-------------------------\")\n",
        "\n",
        "    return training_losses, perplexity, generated_text\n",
        "\n",
        "# EXECUÇÃO DOS CENÁRIOS DE TESTE\n",
        "\n",
        "# 1. Configuração Base (Para Referência)\n",
        "# Base: embed_dim=64, hidden_dim=128, num_layers=2, dropout=0.3\n",
        "# run_experiment(64, 128, 2, 0.3, num_epochs=30)\n",
        "\n",
        "# 2. Teste de Maior Capacidade (Modelo \"Mais Largo\")\n",
        "# Aumenta hidden_dim e embedding_dim\n",
        "run_experiment(embedding_dim=128, hidden_dim=256, num_layers=2, dropout=0.3, num_epochs=30)\n",
        "\n",
        "# 3. Teste de Maior Profundidade (Modelo \"Mais Profundo\")\n",
        "# Aumenta num_layers e dropout (para evitar sobreajuste)\n",
        "run_experiment(embedding_dim=64, hidden_dim=128, num_layers=3, dropout=0.5, num_epochs=30)"
      ],
      "metadata": {
        "colab": {
          "base_uri": "https://localhost:8080/"
        },
        "id": "qGxLOwju9chH",
        "outputId": "7cfe46e2-847e-430c-c80a-f16f5be77caa"
      },
      "id": "qGxLOwju9chH",
      "execution_count": 12,
      "outputs": [
        {
          "output_type": "stream",
          "name": "stdout",
          "text": [
            "\n",
            "=======================================================\n",
            "EXPERIMENTO - Dimensão Embed: 128, Hidden: 256, Camadas: 2, Dropout: 0.3\n",
            "=======================================================\n",
            "\n",
            "--- Resultados Finais ---\n",
            "Tempo de Treinamento: 25.22 segundos\n",
            "Perda Final (Loss): 0.4377\n",
            "Perplexidade Final: 1.36\n",
            "Texto Gerado (Seed: 'inteligencia artificial'): inteligencia artificial com e engenharia automaticamente autonomas podem computadores o experiencia de aprendem camadas do camadas conteudo modelo real complexos aos artificial em os em algoritmos em ativacao de maquina overfitting overfitting\n",
            "-------------------------\n",
            "\n",
            "=======================================================\n",
            "EXPERIMENTO - Dimensão Embed: 64, Hidden: 128, Camadas: 3, Dropout: 0.5\n",
            "=======================================================\n",
            "\n",
            "--- Resultados Finais ---\n",
            "Tempo de Treinamento: 10.51 segundos\n",
            "Perda Final (Loss): 3.1189\n",
            "Perplexidade Final: 16.84\n",
            "Texto Gerado (Seed: 'inteligencia artificial'): inteligencia artificial funcoes prevenir rotulados mais overfitting permite imagens texto humano de aprendizado aprendizado de computadores que a sobre inteligencia conteudo mundo de para analisar linearidade e do funcionamento o reconhecimento revolucionaram\n",
            "-------------------------\n"
          ]
        },
        {
          "output_type": "execute_result",
          "data": {
            "text/plain": [
              "([5.149440050125122,\n",
              "  5.100012874603271,\n",
              "  4.917271947860717,\n",
              "  4.8195356845855715,\n",
              "  4.759512805938721,\n",
              "  4.730790996551514,\n",
              "  4.721879625320435,\n",
              "  4.7216166973114015,\n",
              "  4.685717821121216,\n",
              "  4.663013172149658,\n",
              "  4.598222541809082,\n",
              "  4.571200323104859,\n",
              "  4.481284713745117,\n",
              "  4.376238489151001,\n",
              "  4.3253041982650755,\n",
              "  4.233261442184448,\n",
              "  4.159759855270385,\n",
              "  4.063955593109131,\n",
              "  3.9491575956344604,\n",
              "  3.8431387424468992,\n",
              "  3.753759264945984,\n",
              "  3.6693138599395754,\n",
              "  3.67052845954895,\n",
              "  3.580620861053467,\n",
              "  3.4744092226028442,\n",
              "  3.370774579048157,\n",
              "  3.3154935121536253,\n",
              "  3.246366834640503,\n",
              "  3.1033234357833863,\n",
              "  3.118865633010864],\n",
              " 16.842970406914652,\n",
              " 'inteligencia artificial funcoes prevenir rotulados mais overfitting permite imagens texto humano de aprendizado aprendizado de computadores que a sobre inteligencia conteudo mundo de para analisar linearidade e do funcionamento o reconhecimento revolucionaram')"
            ]
          },
          "metadata": {},
          "execution_count": 12
        }
      ]
    },
    {
      "cell_type": "markdown",
      "source": [
        "1. Configuração de Alta Capacidade (Hidden=256)\n",
        "Esta configuração demonstrou o melhor desempenho de aprendizado, atingindo uma perplexidade excelente de 1.36. Contudo, a geração de texto, embora coerente no início, revela um leve sobreajuste (overfitting) que leva a repetições no final da frase. O modelo foi eficiente, treinando em menos tempo (25.22 segundos) e atingindo a menor perda.\n",
        "\n",
        "2. Configuração de Maior Profundidade (Camadas=3)\n",
        "Esta configuração resultou em uma perplexidade muito alta (16.84) e perda significativa (3.1189), indicando que o modelo não aprendeu bem. O texto gerado é pouco coerente e gramaticalmente falho. Embora tenha treinado mais rápido (10.51 segundos), o aumento de camadas com um dropout alto e hidden_dim menor que a opção 1 prejudicou a capacidade da rede de consolidar o conhecimento."
      ],
      "metadata": {
        "id": "gucrU6O6-Goo"
      },
      "id": "gucrU6O6-Goo"
    },
    {
      "cell_type": "markdown",
      "id": "z1a2b3c4",
      "metadata": {
        "id": "z1a2b3c4"
      },
      "source": [
        "### Exercício 2: Expandindo o Corpus\n",
        "\n",
        "O corpus atual é relativamente pequeno. Sua tarefa é:\n",
        "\n",
        "1. **Expandir o corpus**: Adicione mais texto sobre IA em português (pode usar artigos da Wikipedia, livros em domínio público, etc.)\n",
        "2. **Pré-processar adequadamente**: Implemente limpeza mais robusta (remoção de URLs, normalização de acentos, etc.)\n",
        "3. **Aumentar o vocabulário**: Teste com vocabulários maiores\n",
        "4. **Retreinar o modelo**: Use o corpus expandido e compare os resultados\n",
        "\n",
        "Como o tamanho do corpus afeta a qualidade da geração?"
      ]
    },
    {
      "cell_type": "code",
      "source": [
        "additional_text = \"\"\"\n",
        "Um bom modelo deve generalizar e não apenas memorizar. A inteligencia artificial transforma a sociedade.\n",
        "O treinamento pode demorar dias ou semanas em grandes datasets.\n",
        "A arquitetura do transformador é fundamental hoje.\n",
        "\"\"\"\n",
        "\n",
        "# Corpus Total\n",
        "expanded_corpus_text = corpus_text + additional_text"
      ],
      "metadata": {
        "id": "kHJbYTSV-UOt"
      },
      "id": "kHJbYTSV-UOt",
      "execution_count": 13,
      "outputs": []
    },
    {
      "cell_type": "code",
      "source": [
        "def preprocess_text_robust(text):\n",
        "    \"\"\"Limpa e tokeniza o texto de forma robusta.\"\"\"\n",
        "    import re\n",
        "\n",
        "    # 1. Converter para minúsculas\n",
        "    text = text.lower()\n",
        "\n",
        "    # 2. Remover URLs (simplificado)\n",
        "    text = re.sub(r'https?://\\S+|www\\.\\S+', '', text)\n",
        "\n",
        "    # 3. Remover pontuação e caracteres especiais, mantendo apenas letras e espaços\n",
        "    text = re.sub(r'[^a-záàâãéèêíìîóòôõúùûç\\s]', '', text)\n",
        "\n",
        "    # 4. Normalizar múltiplos espaços\n",
        "    text = re.sub(r'\\s+', ' ', text).strip()\n",
        "\n",
        "    # 5. Tokenizar por palavras\n",
        "    tokens = text.split()\n",
        "\n",
        "    return tokens\n",
        "\n",
        "tokens_robust = preprocess_text_robust(expanded_corpus_text)\n",
        "vocabulary_exp, word_to_idx_exp, idx_to_word_exp = build_vocabulary(tokens_robust, vocab_size=500)"
      ],
      "metadata": {
        "id": "EvJ42j5o-YO_"
      },
      "id": "EvJ42j5o-YO_",
      "execution_count": 14,
      "outputs": []
    },
    {
      "cell_type": "markdown",
      "source": [
        "O aumento do tamanho do corpus é o fator crucial para a qualidade de um modelo de linguagem. Ele reduz a perplexidade (o quão \"surpreso\" o modelo fica), pois oferece mais exemplos para aprender as probabilidades da linguagem. Isso melhora drasticamente a fluência e coerência, permitindo que o modelo gere texto mais natural, variado e com melhor estrutura."
      ],
      "metadata": {
        "id": "wofspW5m-ogP"
      },
      "id": "wofspW5m-ogP"
    },
    {
      "cell_type": "markdown",
      "id": "a1b2c3d5",
      "metadata": {
        "id": "a1b2c3d5"
      },
      "source": [
        "### Exercício 3: Implementando Top-k e Nucleus Sampling\n",
        "\n",
        "A função `generate_text` atual usa apenas temperature sampling. Implemente duas estratégias mais avançadas:\n",
        "\n",
        "1. **Top-k Sampling**: Considere apenas as k palavras mais prováveis\n",
        "2. **Top-p Sampling**: Considere o menor conjunto de palavras cuja probabilidade acumulada seja ≥ p\n",
        "\n",
        "Compare a qualidade da geração entre as diferentes estratégias."
      ]
    },
    {
      "cell_type": "code",
      "source": [
        "import torch\n",
        "import torch.nn.functional as F\n",
        "import numpy as np\n",
        "\n",
        "def top_k_top_p_filtering(logits, top_k=0, top_p=0.0, filter_value=-float('inf')):\n",
        "    if top_k > 0:\n",
        "        indices_to_remove = logits < torch.topk(logits, top_k)[0][..., -1, None]\n",
        "        logits[indices_to_remove] = filter_value\n",
        "\n",
        "    if top_p > 0.0:\n",
        "        sorted_logits, sorted_indices = torch.sort(logits, descending=True)\n",
        "        cumulative_probs = torch.cumsum(F.softmax(sorted_logits, dim=-1), dim=-1)\n",
        "\n",
        "        sorted_indices_to_remove = cumulative_probs > top_p\n",
        "\n",
        "        sorted_indices_to_remove[..., 1:] = sorted_indices_to_remove[..., :-1].clone()\n",
        "        sorted_indices_to_remove[..., 0] = 0\n",
        "\n",
        "        indices_to_remove = sorted_indices[sorted_indices_to_remove]\n",
        "        logits[indices_to_remove] = filter_value\n",
        "\n",
        "    return logits\n",
        "\n",
        "\n",
        "def generate_text_advanced(model, seed_text, max_length=50, temperature=1.0, top_k=0, top_p=0.0, device='cpu'):\n",
        "    model.eval()\n",
        "\n",
        "    seed_tokens = preprocess_text(seed_text)\n",
        "\n",
        "    if len(seed_tokens) == 0:\n",
        "        seed_tokens = ['inteligencia']\n",
        "\n",
        "    seed_indices = encode_tokens(seed_tokens, word_to_idx)\n",
        "\n",
        "    # Garantir que temos pelo menos seq_length tokens\n",
        "    if len(seed_indices) < seq_length:\n",
        "        start_idx = word_to_idx['<START>']\n",
        "        seed_indices = [start_idx] * (seq_length - len(seed_indices)) + seed_indices\n",
        "    else:\n",
        "        seed_indices = seed_indices[-seq_length:]\n",
        "\n",
        "    generated_indices = seed_indices.copy()\n",
        "    current_sequence = seed_indices.copy()\n",
        "\n",
        "    with torch.no_grad():\n",
        "        for _ in range(max_length):\n",
        "            input_tensor = torch.LongTensor([current_sequence]).to(device)\n",
        "            output, _ = model(input_tensor)\n",
        "\n",
        "            # Pegar logits da última posição\n",
        "            last_logits = output[0, -1, :]\n",
        "\n",
        "            # 1. Aplicar Top-k e Top-p\n",
        "            filtered_logits = top_k_top_p_filtering(last_logits.clone().squeeze(), top_k=top_k, top_p=top_p)\n",
        "\n",
        "            # 2. Aplicar Temperature\n",
        "            if temperature != 1.0:\n",
        "                temp = max(0.001, temperature)\n",
        "                filtered_logits = filtered_logits / temp\n",
        "\n",
        "            # 3. Converter para probabilidades\n",
        "            probabilities = F.softmax(filtered_logits, dim=0)\n",
        "\n",
        "            # 4. Amostrar próxima palavra\n",
        "            if temperature == 0.0 or (top_k == 1 and top_p == 0.0):\n",
        "                next_token_idx = torch.argmax(probabilities).item()\n",
        "            else: # Sampling\n",
        "                next_token_idx = torch.multinomial(probabilities, 1).item()\n",
        "\n",
        "            # Parar se gerar token de fim\n",
        "            if next_token_idx == word_to_idx.get('<END>', -1):\n",
        "                break\n",
        "\n",
        "            # Adicionar nova palavra e atualizar sequência\n",
        "            generated_indices.append(next_token_idx)\n",
        "            current_sequence = current_sequence[1:] + [next_token_idx]\n",
        "\n",
        "    # Decodificar de volta para texto (reutiliza lógica da generate_text original)\n",
        "    generated_words = []\n",
        "    for idx in generated_indices:\n",
        "        word = idx_to_word.get(idx, '<UNK>')\n",
        "        if word not in ['<START>', '<END>', '<UNK>']:\n",
        "            generated_words.append(word)\n",
        "\n",
        "    return ' '.join(generated_words)\n",
        "\n",
        "seed = \"o aprendizado profundo utiliza\"\n",
        "\n",
        "print(\"=== COMPARAÇÃO DE AMOSTRAGEM ===\")\n",
        "print(f\"Seed: '{seed}'\\n\")\n",
        "\n",
        "# 1. Temperature Sampling (Base)\n",
        "print(\"1. Temperature Sampling (T=1.0):\")\n",
        "text_temp = generate_text_advanced(model, seed, max_length=30, temperature=1.0, top_k=0, top_p=0.0, device=device)\n",
        "print(f\"Resultado: {text_temp}\\n\")\n",
        "\n",
        "# 2. Top-K Sampling\n",
        "print(\"2. Top-K Sampling (K=10):\")\n",
        "text_topk = generate_text_advanced(model, seed, max_length=30, temperature=1.0, top_k=10, top_p=0.0, device=device)\n",
        "print(f\"Resultado: {text_topk}\\n\")\n",
        "\n",
        "# 3. Top-P (Nucleus) Sampling\n",
        "print(\"3. Top-P Sampling (P=0.9):\")\n",
        "text_topp = generate_text_advanced(model, seed, max_length=30, temperature=1.0, top_k=0, top_p=0.9, device=device)\n",
        "print(f\"Resultado: {text_topp}\\n\")"
      ],
      "metadata": {
        "colab": {
          "base_uri": "https://localhost:8080/"
        },
        "id": "vw9dFC13-uY1",
        "outputId": "711e161c-3539-44d5-9679-d8e14df765cf"
      },
      "id": "vw9dFC13-uY1",
      "execution_count": 18,
      "outputs": [
        {
          "output_type": "stream",
          "name": "stdout",
          "text": [
            "=== COMPARAÇÃO DE AMOSTRAGEM ===\n",
            "Seed: 'o aprendizado profundo utiliza'\n",
            "\n",
            "1. Temperature Sampling (T=1.0):\n",
            "Resultado: o aprendizado profundo utiliza visual regularidades para ajuda a para para e criar de dados dados algoritmos algoritmos de supervisionado podem dados que permite modelos identificar regularidades novos permite dados humana de humana em\n",
            "\n",
            "2. Top-K Sampling (K=10):\n",
            "Resultado: o aprendizado profundo utiliza identificar e para para para modelar e de aprendizado de aprendizado aprendizado de maquina sugerir produtos o conteudo conteudo usuarios usuarios artificial robotica integra do com com para para para\n",
            "\n",
            "3. Top-P Sampling (P=0.9):\n",
            "Resultado: o aprendizado profundo utiliza permite fundamental e multiplas camadas que para parametros no algoritmos de de de de partir sugerir generativa as funcoes um artificiais no fazer artificiais de inteligencia artificiais linearidade de supervisionado\n",
            "\n"
          ]
        }
      ]
    },
    {
      "cell_type": "markdown",
      "source": [
        "Temperature Sampling (T=1.0): Oferece alta variedade, mas a falta de limite claro o leva rapidamente a repetições caóticas e frases gramaticalmente incoerentes.\n",
        "\n",
        "Top-K Sampling (K=10): O texto é previsível e cai em loops repetitivos de frases curtas, limitando a fluência.\n",
        "\n",
        "Top-P Sampling (P=0.9): Demonstra o melhor equilíbrio, mantendo a estrutura da frase e oferecendo maior variedade de palavras sem cair em repetições prejudiciais."
      ],
      "metadata": {
        "id": "JS-AGxL8AN9p"
      },
      "id": "JS-AGxL8AN9p"
    }
  ],
  "metadata": {
    "kernelspec": {
      "display_name": "base",
      "language": "python",
      "name": "python3"
    },
    "language_info": {
      "codemirror_mode": {
        "name": "ipython",
        "version": 3
      },
      "file_extension": ".py",
      "mimetype": "text/x-python",
      "name": "python",
      "nbconvert_exporter": "python",
      "pygments_lexer": "ipython3",
      "version": "3.10.9"
    },
    "colab": {
      "provenance": []
    },
    "widgets": {
      "application/vnd.jupyter.widget-state+json": {
        "3639e4c74a9a41c9ac7459e7f1e800dd": {
          "model_module": "@jupyter-widgets/controls",
          "model_name": "HBoxModel",
          "model_module_version": "1.5.0",
          "state": {
            "_dom_classes": [],
            "_model_module": "@jupyter-widgets/controls",
            "_model_module_version": "1.5.0",
            "_model_name": "HBoxModel",
            "_view_count": null,
            "_view_module": "@jupyter-widgets/controls",
            "_view_module_version": "1.5.0",
            "_view_name": "HBoxView",
            "box_style": "",
            "children": [
              "IPY_MODEL_2c1765f839134e5bb3c0fb5f0da13da0",
              "IPY_MODEL_5823198740b347faac2ee7c33386804e",
              "IPY_MODEL_eee4575a8a5047deb39cd61169e7017f"
            ],
            "layout": "IPY_MODEL_e1774dcdc894438aa81d9e37e6d8fb90"
          }
        },
        "2c1765f839134e5bb3c0fb5f0da13da0": {
          "model_module": "@jupyter-widgets/controls",
          "model_name": "HTMLModel",
          "model_module_version": "1.5.0",
          "state": {
            "_dom_classes": [],
            "_model_module": "@jupyter-widgets/controls",
            "_model_module_version": "1.5.0",
            "_model_name": "HTMLModel",
            "_view_count": null,
            "_view_module": "@jupyter-widgets/controls",
            "_view_module_version": "1.5.0",
            "_view_name": "HTMLView",
            "description": "",
            "description_tooltip": null,
            "layout": "IPY_MODEL_b11f504a83ac41d296cffa4bfcc4588a",
            "placeholder": "​",
            "style": "IPY_MODEL_ea86648110384493bcd848a490604280",
            "value": "100%"
          }
        },
        "5823198740b347faac2ee7c33386804e": {
          "model_module": "@jupyter-widgets/controls",
          "model_name": "FloatProgressModel",
          "model_module_version": "1.5.0",
          "state": {
            "_dom_classes": [],
            "_model_module": "@jupyter-widgets/controls",
            "_model_module_version": "1.5.0",
            "_model_name": "FloatProgressModel",
            "_view_count": null,
            "_view_module": "@jupyter-widgets/controls",
            "_view_module_version": "1.5.0",
            "_view_name": "ProgressView",
            "bar_style": "success",
            "description": "",
            "description_tooltip": null,
            "layout": "IPY_MODEL_718da38562494eb98485d70743859a54",
            "max": 50,
            "min": 0,
            "orientation": "horizontal",
            "style": "IPY_MODEL_557452cb2d504694b71d422f6b839320",
            "value": 50
          }
        },
        "eee4575a8a5047deb39cd61169e7017f": {
          "model_module": "@jupyter-widgets/controls",
          "model_name": "HTMLModel",
          "model_module_version": "1.5.0",
          "state": {
            "_dom_classes": [],
            "_model_module": "@jupyter-widgets/controls",
            "_model_module_version": "1.5.0",
            "_model_name": "HTMLModel",
            "_view_count": null,
            "_view_module": "@jupyter-widgets/controls",
            "_view_module_version": "1.5.0",
            "_view_name": "HTMLView",
            "description": "",
            "description_tooltip": null,
            "layout": "IPY_MODEL_3309b265a02c4b28a77101a99e28c923",
            "placeholder": "​",
            "style": "IPY_MODEL_15f2e88364cd40e18a3286a54657fd4d",
            "value": " 50/50 [00:14&lt;00:00,  3.91it/s]"
          }
        },
        "e1774dcdc894438aa81d9e37e6d8fb90": {
          "model_module": "@jupyter-widgets/base",
          "model_name": "LayoutModel",
          "model_module_version": "1.2.0",
          "state": {
            "_model_module": "@jupyter-widgets/base",
            "_model_module_version": "1.2.0",
            "_model_name": "LayoutModel",
            "_view_count": null,
            "_view_module": "@jupyter-widgets/base",
            "_view_module_version": "1.2.0",
            "_view_name": "LayoutView",
            "align_content": null,
            "align_items": null,
            "align_self": null,
            "border": null,
            "bottom": null,
            "display": null,
            "flex": null,
            "flex_flow": null,
            "grid_area": null,
            "grid_auto_columns": null,
            "grid_auto_flow": null,
            "grid_auto_rows": null,
            "grid_column": null,
            "grid_gap": null,
            "grid_row": null,
            "grid_template_areas": null,
            "grid_template_columns": null,
            "grid_template_rows": null,
            "height": null,
            "justify_content": null,
            "justify_items": null,
            "left": null,
            "margin": null,
            "max_height": null,
            "max_width": null,
            "min_height": null,
            "min_width": null,
            "object_fit": null,
            "object_position": null,
            "order": null,
            "overflow": null,
            "overflow_x": null,
            "overflow_y": null,
            "padding": null,
            "right": null,
            "top": null,
            "visibility": null,
            "width": null
          }
        },
        "b11f504a83ac41d296cffa4bfcc4588a": {
          "model_module": "@jupyter-widgets/base",
          "model_name": "LayoutModel",
          "model_module_version": "1.2.0",
          "state": {
            "_model_module": "@jupyter-widgets/base",
            "_model_module_version": "1.2.0",
            "_model_name": "LayoutModel",
            "_view_count": null,
            "_view_module": "@jupyter-widgets/base",
            "_view_module_version": "1.2.0",
            "_view_name": "LayoutView",
            "align_content": null,
            "align_items": null,
            "align_self": null,
            "border": null,
            "bottom": null,
            "display": null,
            "flex": null,
            "flex_flow": null,
            "grid_area": null,
            "grid_auto_columns": null,
            "grid_auto_flow": null,
            "grid_auto_rows": null,
            "grid_column": null,
            "grid_gap": null,
            "grid_row": null,
            "grid_template_areas": null,
            "grid_template_columns": null,
            "grid_template_rows": null,
            "height": null,
            "justify_content": null,
            "justify_items": null,
            "left": null,
            "margin": null,
            "max_height": null,
            "max_width": null,
            "min_height": null,
            "min_width": null,
            "object_fit": null,
            "object_position": null,
            "order": null,
            "overflow": null,
            "overflow_x": null,
            "overflow_y": null,
            "padding": null,
            "right": null,
            "top": null,
            "visibility": null,
            "width": null
          }
        },
        "ea86648110384493bcd848a490604280": {
          "model_module": "@jupyter-widgets/controls",
          "model_name": "DescriptionStyleModel",
          "model_module_version": "1.5.0",
          "state": {
            "_model_module": "@jupyter-widgets/controls",
            "_model_module_version": "1.5.0",
            "_model_name": "DescriptionStyleModel",
            "_view_count": null,
            "_view_module": "@jupyter-widgets/base",
            "_view_module_version": "1.2.0",
            "_view_name": "StyleView",
            "description_width": ""
          }
        },
        "718da38562494eb98485d70743859a54": {
          "model_module": "@jupyter-widgets/base",
          "model_name": "LayoutModel",
          "model_module_version": "1.2.0",
          "state": {
            "_model_module": "@jupyter-widgets/base",
            "_model_module_version": "1.2.0",
            "_model_name": "LayoutModel",
            "_view_count": null,
            "_view_module": "@jupyter-widgets/base",
            "_view_module_version": "1.2.0",
            "_view_name": "LayoutView",
            "align_content": null,
            "align_items": null,
            "align_self": null,
            "border": null,
            "bottom": null,
            "display": null,
            "flex": null,
            "flex_flow": null,
            "grid_area": null,
            "grid_auto_columns": null,
            "grid_auto_flow": null,
            "grid_auto_rows": null,
            "grid_column": null,
            "grid_gap": null,
            "grid_row": null,
            "grid_template_areas": null,
            "grid_template_columns": null,
            "grid_template_rows": null,
            "height": null,
            "justify_content": null,
            "justify_items": null,
            "left": null,
            "margin": null,
            "max_height": null,
            "max_width": null,
            "min_height": null,
            "min_width": null,
            "object_fit": null,
            "object_position": null,
            "order": null,
            "overflow": null,
            "overflow_x": null,
            "overflow_y": null,
            "padding": null,
            "right": null,
            "top": null,
            "visibility": null,
            "width": null
          }
        },
        "557452cb2d504694b71d422f6b839320": {
          "model_module": "@jupyter-widgets/controls",
          "model_name": "ProgressStyleModel",
          "model_module_version": "1.5.0",
          "state": {
            "_model_module": "@jupyter-widgets/controls",
            "_model_module_version": "1.5.0",
            "_model_name": "ProgressStyleModel",
            "_view_count": null,
            "_view_module": "@jupyter-widgets/base",
            "_view_module_version": "1.2.0",
            "_view_name": "StyleView",
            "bar_color": null,
            "description_width": ""
          }
        },
        "3309b265a02c4b28a77101a99e28c923": {
          "model_module": "@jupyter-widgets/base",
          "model_name": "LayoutModel",
          "model_module_version": "1.2.0",
          "state": {
            "_model_module": "@jupyter-widgets/base",
            "_model_module_version": "1.2.0",
            "_model_name": "LayoutModel",
            "_view_count": null,
            "_view_module": "@jupyter-widgets/base",
            "_view_module_version": "1.2.0",
            "_view_name": "LayoutView",
            "align_content": null,
            "align_items": null,
            "align_self": null,
            "border": null,
            "bottom": null,
            "display": null,
            "flex": null,
            "flex_flow": null,
            "grid_area": null,
            "grid_auto_columns": null,
            "grid_auto_flow": null,
            "grid_auto_rows": null,
            "grid_column": null,
            "grid_gap": null,
            "grid_row": null,
            "grid_template_areas": null,
            "grid_template_columns": null,
            "grid_template_rows": null,
            "height": null,
            "justify_content": null,
            "justify_items": null,
            "left": null,
            "margin": null,
            "max_height": null,
            "max_width": null,
            "min_height": null,
            "min_width": null,
            "object_fit": null,
            "object_position": null,
            "order": null,
            "overflow": null,
            "overflow_x": null,
            "overflow_y": null,
            "padding": null,
            "right": null,
            "top": null,
            "visibility": null,
            "width": null
          }
        },
        "15f2e88364cd40e18a3286a54657fd4d": {
          "model_module": "@jupyter-widgets/controls",
          "model_name": "DescriptionStyleModel",
          "model_module_version": "1.5.0",
          "state": {
            "_model_module": "@jupyter-widgets/controls",
            "_model_module_version": "1.5.0",
            "_model_name": "DescriptionStyleModel",
            "_view_count": null,
            "_view_module": "@jupyter-widgets/base",
            "_view_module_version": "1.2.0",
            "_view_name": "StyleView",
            "description_width": ""
          }
        }
      }
    }
  },
  "nbformat": 4,
  "nbformat_minor": 5
}